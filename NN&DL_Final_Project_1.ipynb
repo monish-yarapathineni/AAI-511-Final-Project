{
  "cells": [
    {
      "cell_type": "markdown",
      "metadata": {
        "id": "view-in-github",
        "colab_type": "text"
      },
      "source": [
        "<a href=\"https://colab.research.google.com/github/pnandini-sdu/AAI-511-Final-Project/blob/main/NN%26DL_Final_Project_1.ipynb\" target=\"_parent\"><img src=\"https://colab.research.google.com/assets/colab-badge.svg\" alt=\"Open In Colab\"/></a>"
      ]
    },
    {
      "cell_type": "code",
      "execution_count": null,
      "metadata": {
        "colab": {
          "base_uri": "https://localhost:8080/"
        },
        "id": "BQZMLIeh1mW9",
        "outputId": "5bfa732e-eb31-4c85-d4cd-d4c1a2763980"
      },
      "outputs": [
        {
          "name": "stdout",
          "output_type": "stream",
          "text": [
            "Requirement already satisfied: pretty_midi in /usr/local/lib/python3.11/dist-packages (0.2.10)\n",
            "Requirement already satisfied: numpy>=1.7.0 in /usr/local/lib/python3.11/dist-packages (from pretty_midi) (2.0.2)\n",
            "Requirement already satisfied: mido>=1.1.16 in /usr/local/lib/python3.11/dist-packages (from pretty_midi) (1.3.3)\n",
            "Requirement already satisfied: six in /usr/local/lib/python3.11/dist-packages (from pretty_midi) (1.17.0)\n",
            "Requirement already satisfied: packaging in /usr/local/lib/python3.11/dist-packages (from mido>=1.1.16->pretty_midi) (25.0)\n"
          ]
        }
      ],
      "source": [
        "!pip install pretty_midi"
      ]
    },
    {
      "cell_type": "code",
      "execution_count": null,
      "metadata": {
        "id": "gdxd5DjkQWe8"
      },
      "outputs": [],
      "source": [
        "# Importing all necessary libraries\n",
        "import os\n",
        "import pretty_midi\n",
        "import numpy as np\n",
        "import zipfile\n",
        "import random\n",
        "import tensorflow as tf\n",
        "from tensorflow import keras\n",
        "from sklearn.model_selection import train_test_split\n",
        "from collections import defaultdict\n",
        "from sklearn.metrics import classification_report, confusion_matrix, accuracy_score\n",
        "import matplotlib.pyplot as plt\n",
        "import seaborn as sns"
      ]
    },
    {
      "cell_type": "code",
      "execution_count": null,
      "metadata": {
        "colab": {
          "base_uri": "https://localhost:8080/"
        },
        "id": "DQuXRwGFO_rN",
        "outputId": "a894ddf1-5032-49f4-e4c4-0fb4ca4db7be"
      },
      "outputs": [
        {
          "name": "stdout",
          "output_type": "stream",
          "text": [
            "Drive already mounted at /content/drive; to attempt to forcibly remount, call drive.mount(\"/content/drive\", force_remount=True).\n"
          ]
        }
      ],
      "source": [
        "# Mounting content from my google drive\n",
        "from google.colab import drive\n",
        "drive.mount('/content/drive')"
      ]
    },
    {
      "cell_type": "code",
      "execution_count": null,
      "metadata": {
        "colab": {
          "base_uri": "https://localhost:8080/"
        },
        "id": "FryBCYb0PFEq",
        "outputId": "778ca975-23d9-4488-9396-647a2a4f2f59"
      },
      "outputs": [
        {
          "name": "stdout",
          "output_type": "stream",
          "text": [
            "Dataset extracted to: /content/drive/My Drive/extracted_dataset\n"
          ]
        }
      ],
      "source": [
        "# Data set zip fle path from my google drive\n",
        "zip_path = \"/content/drive/My Drive/midiclassics.zip\"\n",
        "extract_path = \"/content/drive/My Drive/extracted_dataset\"\n",
        "\n",
        "# Extract all composers midi files\n",
        "with zipfile.ZipFile(zip_path, 'r') as zip_ref:\n",
        "    zip_ref.extractall(extract_path)\n",
        "\n",
        "print(\"Dataset extracted to:\", extract_path)\n"
      ]
    },
    {
      "cell_type": "code",
      "execution_count": null,
      "metadata": {
        "id": "UNbvJc_nN3yC"
      },
      "outputs": [],
      "source": [
        "# Define constants\n",
        "dataset_path = extract_path\n",
        "pitch_range = (24, 108)\n",
        "roll_length = 128\n",
        "composers = [\"Bach\", \"Beethoven\", \"Chopin\", \"Mozart\"]\n",
        "composers_to_idx = {name: i for i, name in enumerate(composers)}"
      ]
    },
    {
      "cell_type": "code",
      "execution_count": null,
      "metadata": {
        "colab": {
          "base_uri": "https://localhost:8080/"
        },
        "id": "DwN06c_vcT0L",
        "outputId": "930d7874-d82d-4e0e-937f-c7f19b915ba4"
      },
      "outputs": [
        {
          "name": "stderr",
          "output_type": "stream",
          "text": [
            "/usr/local/lib/python3.11/dist-packages/pretty_midi/pretty_midi.py:100: RuntimeWarning: Tempo, Key or Time signature change events found on non-zero tracks.  This is not a valid type 0 or type 1 MIDI file.  Tempo, Key or Time Signature may be wrong.\n",
            "  warnings.warn(\n"
          ]
        },
        {
          "name": "stdout",
          "output_type": "stream",
          "text": [
            "Error processing /content/drive/My Drive/extracted_dataset/Beethoven/Anhang 14-3.mid: Could not decode key with 3 flats and mode 255\n",
            "Error processing /content/drive/My Drive/extracted_dataset/Beethoven/Anhang 14-3.mid: Could not decode key with 3 flats and mode 255\n",
            "Error processing /content/drive/My Drive/extracted_dataset/Beethoven/Anhang 14-3.mid: Could not decode key with 3 flats and mode 255\n",
            "Error processing /content/drive/My Drive/extracted_dataset/Beethoven/Anhang 14-3.mid: Could not decode key with 3 flats and mode 255\n",
            "Error processing /content/drive/My Drive/extracted_dataset/Beethoven/Anhang 14-3.mid: Could not decode key with 3 flats and mode 255\n",
            "Error processing /content/drive/My Drive/extracted_dataset/Beethoven/Anhang 14-3.mid: Could not decode key with 3 flats and mode 255\n",
            "Error processing /content/drive/My Drive/extracted_dataset/Beethoven/Anhang 14-3.mid: Could not decode key with 3 flats and mode 255\n",
            "Error processing /content/drive/My Drive/extracted_dataset/Mozart/Piano Sonatas/Nueva carpeta/K281 Piano Sonata n03 3mov.mid: Could not decode key with 2 flats and mode 2\n",
            "Error processing /content/drive/My Drive/extracted_dataset/Mozart/Piano Sonatas/Nueva carpeta/K281 Piano Sonata n03 3mov.mid: Could not decode key with 2 flats and mode 2\n",
            "Error processing /content/drive/My Drive/extracted_dataset/Mozart/Piano Sonatas/Nueva carpeta/K281 Piano Sonata n03 3mov.mid: Could not decode key with 2 flats and mode 2\n",
            "Error processing /content/drive/My Drive/extracted_dataset/Mozart/Piano Sonatas/Nueva carpeta/K281 Piano Sonata n03 3mov.mid: Could not decode key with 2 flats and mode 2\n",
            "Error processing /content/drive/My Drive/extracted_dataset/Mozart/Piano Sonatas/Nueva carpeta/K281 Piano Sonata n03 3mov.mid: Could not decode key with 2 flats and mode 2\n",
            "Error processing /content/drive/My Drive/extracted_dataset/Mozart/Piano Sonatas/Nueva carpeta/K281 Piano Sonata n03 3mov.mid: Could not decode key with 2 flats and mode 2\n",
            "Error processing /content/drive/My Drive/extracted_dataset/Mozart/Piano Sonatas/Nueva carpeta/K281 Piano Sonata n03 3mov.mid: Could not decode key with 2 flats and mode 2\n",
            "Data shape: (338786, 84, 128), Labels: (338786,)\n"
          ]
        }
      ],
      "source": [
        "# Data Pre-processing\n",
        "def midi_to_roll(filepath, fs=16, transpose=0):\n",
        "    try:\n",
        "        midi = pretty_midi.PrettyMIDI(filepath)\n",
        "        roll = midi.get_piano_roll(fs=fs)\n",
        "        roll = np.roll(roll, transpose, axis=0)\n",
        "        roll = roll[pitch_range[0]:pitch_range[1], :]\n",
        "        roll = (roll > 0).astype(np.uint8)\n",
        "        return roll\n",
        "    except Exception as e:\n",
        "        print(f\"Error processing {filepath}: {e}\")\n",
        "        return None\n",
        "\n",
        "def extract_segments(roll, segment_length=roll_length):\n",
        "    segments = []\n",
        "    for start in range(0, roll.shape[1] - segment_length, segment_length):\n",
        "        segment = roll[:, start:start + segment_length]\n",
        "        if segment.shape[1] == segment_length:\n",
        "            segments.append(segment)\n",
        "    return segments\n",
        "\n",
        "def get_all_mid_files(directory):\n",
        "    mid_files = []\n",
        "    for root, dirs, files in os.walk(directory):\n",
        "        for file in files:\n",
        "            if file.lower().endswith('.mid') or file.lower().endswith('.midi'):\n",
        "                mid_files.append(os.path.join(root, file))\n",
        "    return mid_files\n",
        "\n",
        "def load_and_process_data():\n",
        "    X = []\n",
        "    y = []\n",
        "\n",
        "    for composer in composers:\n",
        "        composer_dir = os.path.join(dataset_path, composer)\n",
        "        mid_files = get_all_mid_files(composer_dir)\n",
        "\n",
        "        for filepath in mid_files:\n",
        "            for transpose in range(-3, 4):  # Data augmentation\n",
        "                roll = midi_to_roll(filepath, transpose=transpose)\n",
        "                if roll is not None:\n",
        "                    segments = extract_segments(roll)\n",
        "                    X.extend(segments)\n",
        "                    y.extend([composers_to_idx[composer]] * len(segments))\n",
        "\n",
        "    return np.array(X), np.array(y)\n",
        "\n",
        "# Load data\n",
        "X, y = load_and_process_data()\n",
        "print(f\"Data shape: {X.shape}, Labels: {y.shape}\")"
      ]
    },
    {
      "cell_type": "code",
      "execution_count": null,
      "metadata": {
        "colab": {
          "base_uri": "https://localhost:8080/"
        },
        "id": "mPJ3fpE9UyIg",
        "outputId": "56c42c65-8ce8-4617-e517-f26fedbe323b"
      },
      "outputs": [
        {
          "name": "stdout",
          "output_type": "stream",
          "text": [
            "Bach: 1024 MIDI files scanned.\n",
            "Failed to process /content/drive/My Drive/extracted_dataset/Beethoven/Anhang 14-3.mid: Could not decode key with 3 flats and mode 255\n",
            "Beethoven: 213 MIDI files scanned.\n",
            "Chopin: 136 MIDI files scanned.\n",
            "Failed to process /content/drive/My Drive/extracted_dataset/Mozart/Piano Sonatas/Nueva carpeta/K281 Piano Sonata n03 3mov.mid: Could not decode key with 2 flats and mode 2\n",
            "Mozart: 257 MIDI files scanned.\n",
            "Total Token Counts per Composer:\n",
            "Bach: 1,775,212 tokens\n",
            "Beethoven: 1,603,865 tokens\n",
            "Chopin: 319,703 tokens\n",
            "Mozart: 1,378,190 tokens\n"
          ]
        }
      ],
      "source": [
        "# Count Tokens for each Composer to understand the dataset imbalance\n",
        "def count_tokens_in_midi(filepath):\n",
        "    \"\"\"Count note tokens in a single MIDI file.\"\"\"\n",
        "    try:\n",
        "        midi = pretty_midi.PrettyMIDI(filepath)\n",
        "        token_count = 0\n",
        "        for instrument in midi.instruments:\n",
        "            if not instrument.is_drum:\n",
        "                token_count += len(instrument.notes)\n",
        "        return token_count\n",
        "    except Exception as e:\n",
        "        print(f\"Failed to process {filepath}: {e}\")\n",
        "        return 0\n",
        "\n",
        "def get_all_mid_files_recursive(base_dir):     # Recursively collect all .mid and .MID files in a directory.\n",
        "    mid_files = []\n",
        "    for root, dirs, files in os.walk(base_dir):\n",
        "        for file in files:\n",
        "            if file.lower().endswith(('.mid', '.midi')):\n",
        "                mid_files.append(os.path.join(root, file))\n",
        "    return mid_files\n",
        "\n",
        "def token_count_by_composer(dataset_path, composers):\n",
        "    token_counts = defaultdict(int)   # Compute total token count for each composer.\n",
        "\n",
        "    for composer in composers:\n",
        "        composer_dir = os.path.join(dataset_path, composer)\n",
        "        midi_files = get_all_mid_files_recursive(composer_dir)\n",
        "\n",
        "        for file_path in midi_files:\n",
        "            token_counts[composer] += count_tokens_in_midi(file_path)\n",
        "\n",
        "        print(f\"{composer}: {len(midi_files)} MIDI files scanned.\")\n",
        "\n",
        "    return token_counts\n",
        "\n",
        "# Find token count by composer\n",
        "token_counts = token_count_by_composer(dataset_path, composers)\n",
        "\n",
        "print(\"Total Token Counts per Composer:\")\n",
        "for composer, count in token_counts.items():\n",
        "    print(f\"{composer}: {count:,} tokens\")\n"
      ]
    },
    {
      "cell_type": "code",
      "execution_count": null,
      "metadata": {
        "colab": {
          "background_save": true,
          "base_uri": "https://localhost:8080/"
        },
        "id": "Dw3Yh-JHaUwe",
        "outputId": "10e44899-433a-4831-fd3f-bfa88cda53db"
      },
      "outputs": [
        {
          "name": "stdout",
          "output_type": "stream",
          "text": [
            "\n",
            "Processing Bach\n",
            "  Total segments before trimming: 135135\n",
            "  Selected 5000 segments\n",
            "\n",
            "Processing Beethoven\n",
            "  Total segments before trimming: 89327\n",
            "  Selected 5000 segments\n",
            "\n",
            "Processing Chopin\n",
            "  Total segments before trimming: 25788\n",
            "  Selected 5000 segments\n",
            "\n",
            "Processing Mozart\n",
            "  Total segments before trimming: 88536\n",
            "  Selected 5000 segments\n",
            "\n",
            " Final dataset shape: (20000, 84, 128), Labels: (20000,)\n"
          ]
        }
      ],
      "source": [
        "# Balanced Segment Extraction\n",
        "def midi_to_roll(filepath, fs=16, transpose=0):\n",
        "    try:\n",
        "        midi = pretty_midi.PrettyMIDI(filepath)\n",
        "        roll = midi.get_piano_roll(fs=fs)\n",
        "        roll = np.roll(roll, transpose, axis=0)\n",
        "        roll = roll[pitch_range[0]:pitch_range[1], :]\n",
        "        return (roll > 0).astype(np.uint8)\n",
        "    except:\n",
        "        return None\n",
        "\n",
        "def extract_segments(roll, segment_length=roll_length):\n",
        "    segments = []\n",
        "    for start in range(0, roll.shape[1] - segment_length, segment_length):\n",
        "        segment = roll[:, start:start + segment_length]\n",
        "        if segment.shape[1] == segment_length:\n",
        "            segments.append(segment)\n",
        "    return segments\n",
        "\n",
        "def balanced_segment_loader(max_segments_per_class=5000):\n",
        "    X, y = [], []\n",
        "\n",
        "    for composer in composers:\n",
        "        print(f\"\\nProcessing {composer}\")\n",
        "        composer_dir = os.path.join(dataset_path, composer)\n",
        "        midi_files = get_all_mid_files_recursive(composer_dir)\n",
        "        composer_segments = []\n",
        "\n",
        "        for filepath in midi_files:\n",
        "            for transpose in range(-3, 4):  # Data augmentation\n",
        "                roll = midi_to_roll(filepath, transpose=transpose)\n",
        "                if roll is not None:\n",
        "                    segments = extract_segments(roll)\n",
        "                    composer_segments.extend(segments)\n",
        "\n",
        "        print(f\"  Total segments before trimming: {len(composer_segments)}\")\n",
        "        random.shuffle(composer_segments)\n",
        "        selected = composer_segments[:max_segments_per_class]\n",
        "\n",
        "        X.extend(selected)\n",
        "        y.extend([composers_to_idx[composer]] * len(selected))\n",
        "        print(f\"  Selected {len(selected)} segments\")\n",
        "\n",
        "    return np.array(X), np.array(y)\n",
        "\n",
        "# Load balanced data\n",
        "X, y = balanced_segment_loader(max_segments_per_class=5000)\n",
        "print(f\"\\n Final dataset shape: {X.shape}, Labels: {y.shape}\")\n"
      ]
    },
    {
      "cell_type": "code",
      "execution_count": null,
      "metadata": {
        "colab": {
          "background_save": true
        },
        "id": "UyZK9-VIR_kW",
        "outputId": "af82e14a-2190-4200-9f81-61aeccda16a3"
      },
      "outputs": [
        {
          "name": "stdout",
          "output_type": "stream",
          "text": [
            "Epoch 1/10\n",
            "\u001b[1m200/200\u001b[0m \u001b[32m━━━━━━━━━━━━━━━━━━━━\u001b[0m\u001b[37m\u001b[0m \u001b[1m9s\u001b[0m 14ms/step - accuracy: 0.4294 - loss: 1.2643 - val_accuracy: 0.5919 - val_loss: 1.0073\n",
            "Epoch 2/10\n",
            "\u001b[1m200/200\u001b[0m \u001b[32m━━━━━━━━━━━━━━━━━━━━\u001b[0m\u001b[37m\u001b[0m \u001b[1m1s\u001b[0m 6ms/step - accuracy: 0.6302 - loss: 0.9234 - val_accuracy: 0.5913 - val_loss: 0.9667\n",
            "Epoch 3/10\n",
            "\u001b[1m200/200\u001b[0m \u001b[32m━━━━━━━━━━━━━━━━━━━━\u001b[0m\u001b[37m\u001b[0m \u001b[1m1s\u001b[0m 6ms/step - accuracy: 0.7216 - loss: 0.7088 - val_accuracy: 0.6375 - val_loss: 0.9042\n",
            "Epoch 4/10\n",
            "\u001b[1m200/200\u001b[0m \u001b[32m━━━━━━━━━━━━━━━━━━━━\u001b[0m\u001b[37m\u001b[0m \u001b[1m1s\u001b[0m 6ms/step - accuracy: 0.8215 - loss: 0.4851 - val_accuracy: 0.6334 - val_loss: 1.0052\n",
            "Epoch 5/10\n",
            "\u001b[1m200/200\u001b[0m \u001b[32m━━━━━━━━━━━━━━━━━━━━\u001b[0m\u001b[37m\u001b[0m \u001b[1m1s\u001b[0m 6ms/step - accuracy: 0.8956 - loss: 0.3029 - val_accuracy: 0.6244 - val_loss: 1.1121\n",
            "Epoch 6/10\n",
            "\u001b[1m200/200\u001b[0m \u001b[32m━━━━━━━━━━━━━━━━━━━━\u001b[0m\u001b[37m\u001b[0m \u001b[1m1s\u001b[0m 6ms/step - accuracy: 0.9324 - loss: 0.1951 - val_accuracy: 0.6209 - val_loss: 1.3182\n",
            "Epoch 7/10\n",
            "\u001b[1m200/200\u001b[0m \u001b[32m━━━━━━━━━━━━━━━━━━━━\u001b[0m\u001b[37m\u001b[0m \u001b[1m1s\u001b[0m 6ms/step - accuracy: 0.9558 - loss: 0.1323 - val_accuracy: 0.6228 - val_loss: 1.3915\n",
            "Epoch 8/10\n",
            "\u001b[1m200/200\u001b[0m \u001b[32m━━━━━━━━━━━━━━━━━━━━\u001b[0m\u001b[37m\u001b[0m \u001b[1m1s\u001b[0m 6ms/step - accuracy: 0.9687 - loss: 0.0978 - val_accuracy: 0.6344 - val_loss: 1.5595\n",
            "Epoch 9/10\n",
            "\u001b[1m200/200\u001b[0m \u001b[32m━━━━━━━━━━━━━━━━━━━━\u001b[0m\u001b[37m\u001b[0m \u001b[1m1s\u001b[0m 6ms/step - accuracy: 0.9728 - loss: 0.0841 - val_accuracy: 0.6319 - val_loss: 1.6798\n",
            "Epoch 10/10\n",
            "\u001b[1m200/200\u001b[0m \u001b[32m━━━━━━━━━━━━━━━━━━━━\u001b[0m\u001b[37m\u001b[0m \u001b[1m1s\u001b[0m 6ms/step - accuracy: 0.9771 - loss: 0.0712 - val_accuracy: 0.6169 - val_loss: 1.8022\n"
          ]
        }
      ],
      "source": [
        "# Normalize\n",
        "X = X.astype(np.float32)\n",
        "X = X / 1.0\n",
        "y_cat = keras.utils.to_categorical(y)\n",
        "\n",
        "# Split\n",
        "X_train, X_test, y_train, y_test = train_test_split(X, y_cat, test_size=0.2, random_state=42)\n",
        "\n",
        "\n",
        "# Build CNN Model\n",
        "def build_cnn_model(input_shape, num_classes):\n",
        "    model = keras.models.Sequential([\n",
        "        keras.layers.Input(shape=input_shape),\n",
        "        keras.layers.Reshape((*input_shape, 1)),  # Add channel dimension\n",
        "        keras.layers.Conv2D(32, (3, 3), activation='relu'),\n",
        "        keras.layers.MaxPooling2D((2, 2)),\n",
        "        keras.layers.Conv2D(64, (3, 3), activation='relu'),\n",
        "        keras.layers.MaxPooling2D((2, 2)),\n",
        "        keras.layers.Flatten(),\n",
        "        keras.layers.Dense(128, activation='relu'),\n",
        "        keras.layers.Dropout(0.3),\n",
        "        keras.layers.Dense(num_classes, activation='softmax')\n",
        "    ])\n",
        "    return model\n",
        "\n",
        "# Train\n",
        "model = build_cnn_model(X.shape[1:], len(composers))\n",
        "model.compile(optimizer='adam', loss='categorical_crossentropy', metrics=['accuracy'])\n",
        "\n",
        "history = model.fit(X_train, y_train, epochs=10, batch_size=64, validation_split=0.2)"
      ]
    },
    {
      "cell_type": "code",
      "execution_count": null,
      "metadata": {
        "colab": {
          "background_save": true
        },
        "id": "nkWn_Km-cv_r",
        "outputId": "29a9a61d-6503-42af-b5c5-d023225c1914"
      },
      "outputs": [
        {
          "name": "stdout",
          "output_type": "stream",
          "text": [
            "\u001b[1m125/125\u001b[0m \u001b[32m━━━━━━━━━━━━━━━━━━━━\u001b[0m\u001b[37m\u001b[0m \u001b[1m1s\u001b[0m 2ms/step\n",
            "Test Accuracy: 0.6085\n",
            "Classification Report:\n",
            "              precision    recall  f1-score   support\n",
            "\n",
            "        Bach       0.77      0.59      0.67       995\n",
            "   Beethoven       0.54      0.49      0.51      1024\n",
            "      Chopin       0.70      0.70      0.70      1004\n",
            "      Mozart       0.49      0.66      0.56       977\n",
            "\n",
            "    accuracy                           0.61      4000\n",
            "   macro avg       0.63      0.61      0.61      4000\n",
            "weighted avg       0.63      0.61      0.61      4000\n",
            "\n"
          ]
        },
        {
          "data": {
            "image/png": "[encoded data removed]",
            "text/plain": [
              "<Figure size 800x600 with 2 Axes>"
            ]
          },
          "metadata": {},
          "output_type": "display_data"
        }
      ],
      "source": [
        "# 1. Predict on test set\n",
        "y_pred = model.predict(X_test)\n",
        "y_pred_composers = np.argmax(y_pred, axis=1)\n",
        "y_true = np.argmax(y_test, axis=1)\n",
        "\n",
        "# 2. Accuracy Score\n",
        "test_accuracy = accuracy_score(y_true, y_pred_composers)\n",
        "print(f\"Test Accuracy: {test_accuracy:.4f}\")\n",
        "\n",
        "# 3. Classification Report\n",
        "print(\"Classification Report:\")\n",
        "print(classification_report(y_true, y_pred_composers, target_names=composers))\n",
        "\n",
        "# 4. Confusion Matrix\n",
        "conf_mat = confusion_matrix(y_true, y_pred_composers)\n",
        "\n",
        "plt.figure(figsize=(8, 6))\n",
        "sns.heatmap(conf_mat, annot=True, fmt='d', xticklabels=composers, yticklabels=composers, cmap=\"Blues\")\n",
        "plt.xlabel(\"Predicted\")\n",
        "plt.ylabel(\"True\")\n",
        "plt.title(\"Confusion Matrix\")\n",
        "plt.tight_layout()\n",
        "plt.show()\n",
        "\n"
      ]
    }
  ],
  "metadata": {
    "accelerator": "GPU",
    "colab": {
      "gpuType": "A100",
      "machine_shape": "hm",
      "provenance": [],
      "authorship_tag": "ABX9TyNj2FWbZCjepwKpGtRG95Ja",
      "include_colab_link": true
    },
    "kernelspec": {
      "display_name": "Python 3",
      "name": "python3"
    },
    "language_info": {
      "name": "python"
    }
  },
  "nbformat": 4,
  "nbformat_minor": 0
}